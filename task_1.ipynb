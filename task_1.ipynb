{
  "cells": [
    {
      "cell_type": "code",
      "execution_count": 2,
      "metadata": {
        "colab": {
          "base_uri": "https://localhost:8080/"
        },
        "id": "e-b-ESNwNgCX",
        "outputId": "72c08998-986f-421e-a1d1-5bd867d7a567"
      },
      "outputs": [
        {
          "name": "stdout",
          "output_type": "stream",
          "text": [
            "Enter your name: Harsh\n",
            "Enter your age: 20\n",
            "Enter your favorite hobby: playing sports\n",
            "\n",
            "--- Personal Introduction ---\n",
            "Hello Harsh! \n",
            "You are 20 years old and you love playing sports.\n",
            "Welcome! It's great to know more about you! \n"
          ]
        }
      ],
      "source": [
        "\n",
        "name = input(\"Enter your name: \")\n",
        "age = input(\"Enter your age: \")\n",
        "hobby = input(\"Enter your favorite hobby: \")\n",
        "\n",
        "\n",
        "print(\"\\n--- Personal Introduction ---\")\n",
        "print(f\"Hello {name}! \")\n",
        "print(f\"You are {age} years old and you love {hobby}.\")\n",
        "print(\"Welcome! It's great to know more about you! \")\n"
      ]
    }
  ],
  "metadata": {
    "colab": {
      "provenance": []
    },
    "kernelspec": {
      "display_name": "Python 3",
      "name": "python3"
    },
    "language_info": {
      "name": "python"
    }
  },
  "nbformat": 4,
  "nbformat_minor": 0
}
