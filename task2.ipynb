{
  "nbformat": 4,
  "nbformat_minor": 0,
  "metadata": {
    "colab": {
      "provenance": []
    },
    "kernelspec": {
      "name": "python3",
      "display_name": "Python 3"
    },
    "language_info": {
      "name": "python"
    }
  },
  "cells": [
    {
      "cell_type": "code",
      "execution_count": 1,
      "metadata": {
        "colab": {
          "base_uri": "https://localhost:8080/"
        },
        "id": "ChgRf_bD0OKw",
        "outputId": "a7942b42-1917-409e-950a-773b11cdf1bf"
      },
      "outputs": [
        {
          "output_type": "stream",
          "name": "stdout",
          "text": [
            "Enter your marks (out of 100): 75\n",
            "\n",
            "Your Grade: B\n",
            "Message:  Good job! You can reach higher next time!\n"
          ]
        }
      ],
      "source": [
        "\n",
        "\n",
        "def calculate_grade(marks):\n",
        "    if marks >= 90:\n",
        "        grade = 'A+'\n",
        "        message = \" Outstanding! You’ve nailed it!\"\n",
        "    elif marks >= 80:\n",
        "        grade = 'A'\n",
        "        message = \" Excellent work! Keep it up!\"\n",
        "    elif marks >= 70:\n",
        "        grade = 'B'\n",
        "        message = \" Good job! You can reach higher next time!\"\n",
        "    elif marks >= 60:\n",
        "        grade = 'C'\n",
        "        message = \" Fair effort! Keep improving!\"\n",
        "    elif marks >= 50:\n",
        "        grade = 'D'\n",
        "        message = \" You passed! A bit more practice will help!\"\n",
        "    else:\n",
        "        grade = 'F'\n",
        "        message = \" Don’t give up! Failure is the first step to success.\"\n",
        "\n",
        "    return grade, message\n",
        "\n",
        "\n",
        "try:\n",
        "    marks = float(input(\"Enter your marks (out of 100): \"))\n",
        "\n",
        "    if marks < 0 or marks > 100:\n",
        "        print(\" Please enter marks between 0 and 100.\")\n",
        "    else:\n",
        "        grade, message = calculate_grade(marks)\n",
        "        print(f\"\\nYour Grade: {grade}\")\n",
        "        print(f\"Message: {message}\")\n",
        "\n",
        "except ValueError:\n",
        "    print(\" Invalid input! Please enter numeric marks.\")\n"
      ]
    }
  ]
}